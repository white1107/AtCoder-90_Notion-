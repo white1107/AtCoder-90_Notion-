{
 "cells": [
  {
   "cell_type": "code",
   "execution_count": 106,
   "id": "1c16958c-7c0e-44dd-8be7-21db2e20980d",
   "metadata": {
    "tags": []
   },
   "outputs": [],
   "source": [
    "import requests\n",
    "from bs4 import BeautifulSoup\n",
    "\n",
    "load_url = \"https://atcoder.jp/contests/typical90/tasks\"\n",
    "html = requests.get(load_url)\n",
    "soup = BeautifulSoup(html.content, \"html.parser\")\n",
    "\n",
    "# print(soup)"
   ]
  },
  {
   "cell_type": "code",
   "execution_count": 107,
   "id": "fcdcdaee-d498-43b8-9f10-568fb5e9c45e",
   "metadata": {
    "tags": []
   },
   "outputs": [
    {
     "name": "stdout",
     "output_type": "stream",
     "text": [
      "[<a class=\"navbar-brand\" href=\"/home\"></a>, <a class=\"contest-title\" href=\"/contests/typical90\">競プロ典型 90 問</a>, <a aria-expanded=\"false\" aria-haspopup=\"true\" class=\"dropdown-toggle\" data-toggle=\"dropdown\" href=\"#\" role=\"button\">\n",
      "<img src=\"//img.atcoder.jp/assets/top/img/flag-lang/en.png\"/> English <span class=\"caret\"></span>\n",
      "</a>, <a href=\"/contests/typical90/tasks?lang=ja\"><img src=\"//img.atcoder.jp/assets/top/img/flag-lang/ja.png\"/> 日本語</a>, <a href=\"/contests/typical90/tasks?lang=en\"><img src=\"//img.atcoder.jp/assets/top/img/flag-lang/en.png\"/> English</a>, <a href=\"/register?continue=https%3A%2F%2Fatcoder.jp%2Fcontests%2Ftypical90%2Ftasks\">Sign Up</a>, <a href=\"/login?continue=https%3A%2F%2Fatcoder.jp%2Fcontests%2Ftypical90%2Ftasks\">Sign In</a>, <a href=\"http://www.timeanddate.com/worldclock/fixedtime.html?iso=20210420T1920&amp;p1=248\" target=\"blank\"><time class=\"fixtime fixtime-full\">2021-04-20 19:20:00+0900</time></a>, <a href=\"http://www.timeanddate.com/worldclock/fixedtime.html?iso=50210711T1900&amp;p1=248\" target=\"blank\"><time class=\"fixtime fixtime-full\">5021-07-11 19:00:00+0900</time></a>, <a href=\"/home\">Back to Home</a>, <a href=\"/contests/typical90\"><span aria-hidden=\"true\" class=\"glyphicon glyphicon-home\"></span> Top</a>, <a href=\"/contests/typical90/tasks\"><span aria-hidden=\"true\" class=\"glyphicon glyphicon-tasks\"></span> Tasks</a>, <a href=\"/contests/typical90/clarifications\"><span aria-hidden=\"true\" class=\"glyphicon glyphicon-question-sign\"></span> Clarifications <span class=\"badge\" id=\"clar-badge\"></span></a>, <a aria-expanded=\"false\" aria-haspopup=\"true\" class=\"dropdown-toggle\" data-toggle=\"dropdown\" href=\"#\" role=\"button\"><span aria-hidden=\"true\" class=\"glyphicon glyphicon-list\"></span> Results<span class=\"caret\"></span></a>, <a href=\"/contests/typical90/submissions\"><span aria-hidden=\"true\" class=\"glyphicon glyphicon-globe\"></span> All Submissions</a>, <a href=\"/contests/typical90/standings\"><span aria-hidden=\"true\" class=\"glyphicon glyphicon-sort-by-attributes-alt\"></span> Standings</a>, <a href=\"/contests/typical90/editorial\"><span aria-hidden=\"true\" class=\"glyphicon glyphicon-book\"></span> Editorial</a>, <a href=\"javascript:void(0)\" id=\"fix-cnvtb\"><span aria-hidden=\"true\" class=\"glyphicon glyphicon-pushpin\"></span></a>, <a href=\"/contests/typical90/tasks/typical90_a\">001</a>, <a href=\"/contests/typical90/tasks/typical90_a\">Yokan Party（★4）</a>, <a href=\"/contests/typical90/tasks/typical90_b\">002</a>, <a href=\"/contests/typical90/tasks/typical90_b\">Encyclopedia of Parentheses（★3）</a>, <a href=\"/contests/typical90/tasks/typical90_c\">003</a>, <a href=\"/contests/typical90/tasks/typical90_c\">Longest Circular Road（★4）</a>, <a href=\"/contests/typical90/tasks/typical90_d\">004</a>, <a href=\"/contests/typical90/tasks/typical90_d\">Cross Sum（★2）</a>, <a href=\"/contests/typical90/tasks/typical90_e\">005</a>, <a href=\"/contests/typical90/tasks/typical90_e\">Restricted Digits（★7）</a>, <a href=\"/contests/typical90/tasks/typical90_f\">006</a>, <a href=\"/contests/typical90/tasks/typical90_f\">Smallest Subsequence（★5）</a>, <a href=\"/contests/typical90/tasks/typical90_g\">007</a>, <a href=\"/contests/typical90/tasks/typical90_g\">CP Classes（★3）</a>, <a href=\"/contests/typical90/tasks/typical90_h\">008</a>, <a href=\"/contests/typical90/tasks/typical90_h\">AtCounter（★4）</a>, <a href=\"/contests/typical90/tasks/typical90_i\">009</a>, <a href=\"/contests/typical90/tasks/typical90_i\">Three Point Angle（★6）</a>, <a href=\"/contests/typical90/tasks/typical90_j\">010</a>, <a href=\"/contests/typical90/tasks/typical90_j\">Score Sum Queries（★2）</a>, <a href=\"/contests/typical90/tasks/typical90_k\">011</a>, <a href=\"/contests/typical90/tasks/typical90_k\">Gravy Jobs（★6）</a>, <a href=\"/contests/typical90/tasks/typical90_l\">012</a>, <a href=\"/contests/typical90/tasks/typical90_l\">Red Painting（★4）</a>, <a href=\"/contests/typical90/tasks/typical90_m\">013</a>, <a href=\"/contests/typical90/tasks/typical90_m\">Passing（★5）</a>, <a href=\"/contests/typical90/tasks/typical90_n\">014</a>, <a href=\"/contests/typical90/tasks/typical90_n\">We Used to Sing a Song Together（★3）</a>, <a href=\"/contests/typical90/tasks/typical90_o\">015</a>, <a href=\"/contests/typical90/tasks/typical90_o\">Don't be too close（★6）</a>, <a href=\"/contests/typical90/tasks/typical90_p\">016</a>, <a href=\"/contests/typical90/tasks/typical90_p\">Minimum Coins（★3）</a>, <a href=\"/contests/typical90/tasks/typical90_q\">017</a>, <a href=\"/contests/typical90/tasks/typical90_q\">Crossing Segments（★7）</a>, <a href=\"/contests/typical90/tasks/typical90_r\">018</a>, <a href=\"/contests/typical90/tasks/typical90_r\">Statue of Chokudai（★3）</a>, <a href=\"/contests/typical90/tasks/typical90_s\">019</a>, <a href=\"/contests/typical90/tasks/typical90_s\">Pick Two（★6）</a>, <a href=\"/contests/typical90/tasks/typical90_t\">020</a>, <a href=\"/contests/typical90/tasks/typical90_t\">Log Inequality（★3）</a>, <a href=\"/contests/typical90/tasks/typical90_u\">021</a>, <a href=\"/contests/typical90/tasks/typical90_u\">Come Back in One Piece（★5）</a>, <a href=\"/contests/typical90/tasks/typical90_v\">022</a>, <a href=\"/contests/typical90/tasks/typical90_v\">Cubic Cake（★2）</a>, <a href=\"/contests/typical90/tasks/typical90_w\">023</a>, <a href=\"/contests/typical90/tasks/typical90_w\">Avoid War（★7）</a>, <a href=\"/contests/typical90/tasks/typical90_x\">024</a>, <a href=\"/contests/typical90/tasks/typical90_x\">Select +／- One（★2）</a>, <a href=\"/contests/typical90/tasks/typical90_y\">025</a>, <a href=\"/contests/typical90/tasks/typical90_y\">Digit Product Equation（★7）</a>, <a href=\"/contests/typical90/tasks/typical90_z\">026</a>, <a href=\"/contests/typical90/tasks/typical90_z\">Independent Set on a Tree（★4）</a>, <a href=\"/contests/typical90/tasks/typical90_aa\">027</a>, <a href=\"/contests/typical90/tasks/typical90_aa\">Sign Up Requests （★2）</a>, <a href=\"/contests/typical90/tasks/typical90_ab\">028</a>, <a href=\"/contests/typical90/tasks/typical90_ab\">Cluttered Paper（★4）</a>, <a href=\"/contests/typical90/tasks/typical90_ac\">029</a>, <a href=\"/contests/typical90/tasks/typical90_ac\">Long Bricks（★5）</a>, <a href=\"/contests/typical90/tasks/typical90_ad\">030</a>, <a href=\"/contests/typical90/tasks/typical90_ad\">K Factors（★5）</a>, <a href=\"/contests/typical90/tasks/typical90_ae\">031</a>, <a href=\"/contests/typical90/tasks/typical90_ae\">VS AtCoder（★6）</a>, <a href=\"/contests/typical90/tasks/typical90_af\">032</a>, <a href=\"/contests/typical90/tasks/typical90_af\">AtCoder Ekiden（★3）</a>, <a href=\"/contests/typical90/tasks/typical90_ag\">033</a>, <a href=\"/contests/typical90/tasks/typical90_ag\">Not Too Bright（★2）</a>, <a href=\"/contests/typical90/tasks/typical90_ah\">034</a>, <a href=\"/contests/typical90/tasks/typical90_ah\">There are few types of elements（★4）</a>, <a href=\"/contests/typical90/tasks/typical90_ai\">035</a>, <a href=\"/contests/typical90/tasks/typical90_ai\">Preserve Connectivity（★7）</a>, <a href=\"/contests/typical90/tasks/typical90_aj\">036</a>, <a href=\"/contests/typical90/tasks/typical90_aj\">Max Manhattan Distance（★5）</a>, <a href=\"/contests/typical90/tasks/typical90_ak\">037</a>, <a href=\"/contests/typical90/tasks/typical90_ak\">Don't Leave the Spice（★5）</a>, <a href=\"/contests/typical90/tasks/typical90_al\">038</a>, <a href=\"/contests/typical90/tasks/typical90_al\">Large LCM（★3）</a>, <a href=\"/contests/typical90/tasks/typical90_am\">039</a>, <a href=\"/contests/typical90/tasks/typical90_am\">Tree Distance（★5）</a>, <a href=\"/contests/typical90/tasks/typical90_an\">040</a>, <a href=\"/contests/typical90/tasks/typical90_an\">Get More Money（★7）</a>, <a href=\"/contests/typical90/tasks/typical90_ao\">041</a>, <a href=\"/contests/typical90/tasks/typical90_ao\">Piles in AtCoder Farm（★7）</a>, <a href=\"/contests/typical90/tasks/typical90_ap\">042</a>, <a href=\"/contests/typical90/tasks/typical90_ap\">Multiple of 9（★4）</a>, <a href=\"/contests/typical90/tasks/typical90_aq\">043</a>, <a href=\"/contests/typical90/tasks/typical90_aq\">Maze Challenge with Lack of Sleep（★4）</a>, <a href=\"/contests/typical90/tasks/typical90_ar\">044</a>, <a href=\"/contests/typical90/tasks/typical90_ar\">Shift and Swapping（★3）</a>, <a href=\"/contests/typical90/tasks/typical90_as\">045</a>, <a href=\"/contests/typical90/tasks/typical90_as\">Simple Grouping（★6）</a>, <a href=\"/contests/typical90/tasks/typical90_at\">046</a>, <a href=\"/contests/typical90/tasks/typical90_at\">I Love 46（★3）</a>, <a href=\"/contests/typical90/tasks/typical90_au\">047</a>, <a href=\"/contests/typical90/tasks/typical90_au\">Monochromatic Diagonal（★7）</a>, <a href=\"/contests/typical90/tasks/typical90_av\">048</a>, <a href=\"/contests/typical90/tasks/typical90_av\">I will not drop out（★3）</a>, <a href=\"/contests/typical90/tasks/typical90_aw\">049</a>, <a href=\"/contests/typical90/tasks/typical90_aw\">Flip Digits 2（★6）</a>, <a href=\"/contests/typical90/tasks/typical90_ax\">050</a>, <a href=\"/contests/typical90/tasks/typical90_ax\">Stair Jump（★3）</a>, <a href=\"/contests/typical90/tasks/typical90_ay\">051</a>, <a href=\"/contests/typical90/tasks/typical90_ay\">Typical Shop（★5）</a>, <a href=\"/contests/typical90/tasks/typical90_az\">052</a>, <a href=\"/contests/typical90/tasks/typical90_az\">Dice Product（★3）</a>, <a href=\"/contests/typical90/tasks/typical90_ba\">053</a>, <a href=\"/contests/typical90/tasks/typical90_ba\">Discrete Dowsing（★7）</a>, <a href=\"/contests/typical90/tasks/typical90_bb\">054</a>, <a href=\"/contests/typical90/tasks/typical90_bb\">Takahashi Number（★6）</a>, <a href=\"/contests/typical90/tasks/typical90_bc\">055</a>, <a href=\"/contests/typical90/tasks/typical90_bc\">Select 5（★2）</a>, <a href=\"/contests/typical90/tasks/typical90_bd\">056</a>, <a href=\"/contests/typical90/tasks/typical90_bd\">Lucky Bag（★5）</a>, <a href=\"/contests/typical90/tasks/typical90_be\">057</a>, <a href=\"/contests/typical90/tasks/typical90_be\">Flip Flap（★6）</a>, <a href=\"/contests/typical90/tasks/typical90_bf\">058</a>, <a href=\"/contests/typical90/tasks/typical90_bf\">Original Calculator（★4）</a>, <a href=\"/contests/typical90/tasks/typical90_bg\">059</a>, <a href=\"/contests/typical90/tasks/typical90_bg\">Many Graph Queries（★7）</a>, <a href=\"/contests/typical90/tasks/typical90_bh\">060</a>, <a href=\"/contests/typical90/tasks/typical90_bh\">Chimera（★5）</a>, <a href=\"/contests/typical90/tasks/typical90_bi\">061</a>, <a href=\"/contests/typical90/tasks/typical90_bi\">Deck（★2）</a>, <a href=\"/contests/typical90/tasks/typical90_bj\">062</a>, <a href=\"/contests/typical90/tasks/typical90_bj\">Paint All（★6）</a>, <a href=\"/contests/typical90/tasks/typical90_bk\">063</a>, <a href=\"/contests/typical90/tasks/typical90_bk\">Monochromatic Subgrid（★4）</a>, <a href=\"/contests/typical90/tasks/typical90_bl\">064</a>, <a href=\"/contests/typical90/tasks/typical90_bl\">Uplift（★3）</a>, <a href=\"/contests/typical90/tasks/typical90_bm\">065</a>, <a href=\"/contests/typical90/tasks/typical90_bm\">RGB Balls 2（★7）</a>, <a href=\"/contests/typical90/tasks/typical90_bn\">066</a>, <a href=\"/contests/typical90/tasks/typical90_bn\">Various Arrays（★5）</a>, <a href=\"/contests/typical90/tasks/typical90_bo\">067</a>, <a href=\"/contests/typical90/tasks/typical90_bo\">Base 8 to 9（★2）</a>, <a href=\"/contests/typical90/tasks/typical90_bp\">068</a>, <a href=\"/contests/typical90/tasks/typical90_bp\">Paired Information（★5）</a>, <a href=\"/contests/typical90/tasks/typical90_bq\">069</a>, <a href=\"/contests/typical90/tasks/typical90_bq\">Colorful Blocks 2（★3）</a>, <a href=\"/contests/typical90/tasks/typical90_br\">070</a>, <a href=\"/contests/typical90/tasks/typical90_br\">Plant Planning（★4）</a>, <a href=\"/contests/typical90/tasks/typical90_bs\">071</a>, <a href=\"/contests/typical90/tasks/typical90_bs\">Fuzzy Priority（★7）</a>, <a href=\"/contests/typical90/tasks/typical90_bt\">072</a>, <a href=\"/contests/typical90/tasks/typical90_bt\">Loop Railway Plan（★4）</a>, <a href=\"/contests/typical90/tasks/typical90_bu\">073</a>, <a href=\"/contests/typical90/tasks/typical90_bu\">We Need Both a and b（★5）</a>, <a href=\"/contests/typical90/tasks/typical90_bv\">074</a>, <a href=\"/contests/typical90/tasks/typical90_bv\">ABC String 2（★6）</a>, <a href=\"/contests/typical90/tasks/typical90_bw\">075</a>, <a href=\"/contests/typical90/tasks/typical90_bw\">Magic For Balls（★3）</a>, <a href=\"/contests/typical90/tasks/typical90_bx\">076</a>, <a href=\"/contests/typical90/tasks/typical90_bx\">Cake Cut（★3）</a>, <a href=\"/contests/typical90/tasks/typical90_by\">077</a>, <a href=\"/contests/typical90/tasks/typical90_by\">Planes on a 2D Plane（★7）</a>, <a href=\"/contests/typical90/tasks/typical90_bz\">078</a>, <a href=\"/contests/typical90/tasks/typical90_bz\">Easy Graph Problem（★2）</a>, <a href=\"/contests/typical90/tasks/typical90_ca\">079</a>, <a href=\"/contests/typical90/tasks/typical90_ca\">Two by Two（★3）</a>, <a href=\"/contests/typical90/tasks/typical90_cb\">080</a>, <a href=\"/contests/typical90/tasks/typical90_cb\">Let's Share Bit（★6）</a>, <a href=\"/contests/typical90/tasks/typical90_cc\">081</a>, <a href=\"/contests/typical90/tasks/typical90_cc\">Friendly Group（★5）</a>, <a href=\"/contests/typical90/tasks/typical90_cd\">082</a>, <a href=\"/contests/typical90/tasks/typical90_cd\">Counting Numbers（★3）</a>, <a href=\"/contests/typical90/tasks/typical90_ce\">083</a>, <a href=\"/contests/typical90/tasks/typical90_ce\">Colorful Graph（★6）</a>, <a href=\"/contests/typical90/tasks/typical90_cf\">084</a>, <a href=\"/contests/typical90/tasks/typical90_cf\">There are two types of characters（★3）</a>, <a href=\"/contests/typical90/tasks/typical90_cg\">085</a>, <a href=\"/contests/typical90/tasks/typical90_cg\">Multiplication 085（★4）</a>, <a href=\"/contests/typical90/tasks/typical90_ch\">086</a>, <a href=\"/contests/typical90/tasks/typical90_ch\">Snuke's Favorite Arrays（★5）</a>, <a href=\"/contests/typical90/tasks/typical90_ci\">087</a>, <a href=\"/contests/typical90/tasks/typical90_ci\">Chokudai's Demand（★5）</a>, <a href=\"/contests/typical90/tasks/typical90_cj\">088</a>, <a href=\"/contests/typical90/tasks/typical90_cj\">Similar but Different Ways（★6）</a>, <a href=\"/contests/typical90/tasks/typical90_ck\">089</a>, <a href=\"/contests/typical90/tasks/typical90_ck\">Partitions and Inversions（★7）</a>, <a href=\"/contests/typical90/tasks/typical90_cl\">090</a>, <a href=\"/contests/typical90/tasks/typical90_cl\">Tenkei90's Last Problem（★7）</a>, <a class=\"btn-text\" href=\"/contests/typical90/tasks_print\">Tasks for printing</a>, <a class=\"a2a_button_facebook\"></a>, <a class=\"a2a_button_twitter\"></a>, <a class=\"a2a_button_telegram\"></a>, <a class=\"a2a_dd\" href=\"https://www.addtoany.com/share\"></a>, <a href=\"/contests/typical90/rules\">Rule</a>, <a href=\"/contests/typical90/glossary\">Glossary</a>, <a href=\"/tos\">Terms of service</a>, <a href=\"/privacy\">Privacy Policy</a>, <a href=\"/personal\">Information Protection Policy</a>, <a href=\"/company\">Company</a>, <a href=\"/faq\">FAQ</a>, <a href=\"/contact\">Contact</a>, <a href=\"http://atcoder.co.jp\">AtCoder Inc.</a>]\n"
     ]
    }
   ],
   "source": [
    "print(soup.find_all(\"a\"))\n"
   ]
  },
  {
   "cell_type": "code",
   "execution_count": 108,
   "id": "e1d22688-51c9-4fbb-a581-acf0a7789003",
   "metadata": {},
   "outputs": [
    {
     "name": "stdout",
     "output_type": "stream",
     "text": [
      "<a href=\"/contests/typical90/tasks/typical90_b\">002</a>\n",
      "<a href=\"/contests/typical90/tasks/typical90_b\">Encyclopedia of Parentheses（★3）</a>\n",
      "<a href=\"/contests/typical90/tasks/typical90_c\">003</a>\n",
      "<a href=\"/contests/typical90/tasks/typical90_c\">Longest Circular Road（★4）</a>\n",
      "<a href=\"/contests/typical90/tasks/typical90_d\">004</a>\n",
      "<a href=\"/contests/typical90/tasks/typical90_d\">Cross Sum（★2）</a>\n",
      "<a href=\"/contests/typical90/tasks/typical90_e\">005</a>\n",
      "<a href=\"/contests/typical90/tasks/typical90_e\">Restricted Digits（★7）</a>\n",
      "<a href=\"/contests/typical90/tasks/typical90_f\">006</a>\n",
      "<a href=\"/contests/typical90/tasks/typical90_f\">Smallest Subsequence（★5）</a>\n",
      "<a href=\"/contests/typical90/tasks/typical90_g\">007</a>\n",
      "<a href=\"/contests/typical90/tasks/typical90_g\">CP Classes（★3）</a>\n",
      "<a href=\"/contests/typical90/tasks/typical90_h\">008</a>\n",
      "<a href=\"/contests/typical90/tasks/typical90_h\">AtCounter（★4）</a>\n",
      "<a href=\"/contests/typical90/tasks/typical90_i\">009</a>\n",
      "<a href=\"/contests/typical90/tasks/typical90_i\">Three Point Angle（★6）</a>\n",
      "<a href=\"/contests/typical90/tasks/typical90_j\">010</a>\n",
      "<a href=\"/contests/typical90/tasks/typical90_j\">Score Sum Queries（★2）</a>\n",
      "<a href=\"/contests/typical90/tasks/typical90_k\">011</a>\n",
      "<a href=\"/contests/typical90/tasks/typical90_k\">Gravy Jobs（★6）</a>\n",
      "<a href=\"/contests/typical90/tasks/typical90_l\">012</a>\n",
      "<a href=\"/contests/typical90/tasks/typical90_l\">Red Painting（★4）</a>\n",
      "<a href=\"/contests/typical90/tasks/typical90_m\">013</a>\n",
      "<a href=\"/contests/typical90/tasks/typical90_m\">Passing（★5）</a>\n",
      "<a href=\"/contests/typical90/tasks/typical90_n\">014</a>\n",
      "<a href=\"/contests/typical90/tasks/typical90_n\">We Used to Sing a Song Together（★3）</a>\n",
      "<a href=\"/contests/typical90/tasks/typical90_o\">015</a>\n",
      "<a href=\"/contests/typical90/tasks/typical90_o\">Don't be too close（★6）</a>\n",
      "<a href=\"/contests/typical90/tasks/typical90_p\">016</a>\n",
      "<a href=\"/contests/typical90/tasks/typical90_p\">Minimum Coins（★3）</a>\n"
     ]
    }
   ],
   "source": [
    "for i in soup.find_all(\"a\")[20:50]:\n",
    "    print(i)"
   ]
  },
  {
   "cell_type": "code",
   "execution_count": 109,
   "id": "35d7a106-64f5-4bb0-897f-de29ed4cd511",
   "metadata": {},
   "outputs": [],
   "source": [
    "target_url = []\n",
    "for i in soup.find_all(\"a\"):\n",
    "    if \"★5\" in i:\n",
    "        target_url.append(i)"
   ]
  },
  {
   "cell_type": "code",
   "execution_count": 116,
   "id": "4fc4ac6a-4f50-421d-b62a-399f525e4ed9",
   "metadata": {},
   "outputs": [
    {
     "data": {
      "text/plain": [
       "[<a href=\"/contests/typical90/tasks/typical90_f\">Smallest Subsequence（★5）</a>,\n",
       " <a href=\"/contests/typical90/tasks/typical90_m\">Passing（★5）</a>,\n",
       " <a href=\"/contests/typical90/tasks/typical90_u\">Come Back in One Piece（★5）</a>,\n",
       " <a href=\"/contests/typical90/tasks/typical90_ac\">Long Bricks（★5）</a>,\n",
       " <a href=\"/contests/typical90/tasks/typical90_ad\">K Factors（★5）</a>,\n",
       " <a href=\"/contests/typical90/tasks/typical90_aj\">Max Manhattan Distance（★5）</a>,\n",
       " <a href=\"/contests/typical90/tasks/typical90_ak\">Don't Leave the Spice（★5）</a>,\n",
       " <a href=\"/contests/typical90/tasks/typical90_am\">Tree Distance（★5）</a>,\n",
       " <a href=\"/contests/typical90/tasks/typical90_ay\">Typical Shop（★5）</a>,\n",
       " <a href=\"/contests/typical90/tasks/typical90_bd\">Lucky Bag（★5）</a>,\n",
       " <a href=\"/contests/typical90/tasks/typical90_bh\">Chimera（★5）</a>,\n",
       " <a href=\"/contests/typical90/tasks/typical90_bn\">Various Arrays（★5）</a>,\n",
       " <a href=\"/contests/typical90/tasks/typical90_bp\">Paired Information（★5）</a>,\n",
       " <a href=\"/contests/typical90/tasks/typical90_bu\">We Need Both a and b（★5）</a>,\n",
       " <a href=\"/contests/typical90/tasks/typical90_cc\">Friendly Group（★5）</a>,\n",
       " <a href=\"/contests/typical90/tasks/typical90_ch\">Snuke's Favorite Arrays（★5）</a>,\n",
       " <a href=\"/contests/typical90/tasks/typical90_ci\">Chokudai's Demand（★5）</a>]"
      ]
     },
     "execution_count": 116,
     "metadata": {},
     "output_type": "execute_result"
    }
   ],
   "source": [
    "target_url"
   ]
  },
  {
   "cell_type": "code",
   "execution_count": 117,
   "id": "0793c3ee-9da5-428b-b4f3-c535bd544edc",
   "metadata": {},
   "outputs": [],
   "source": [
    "\n",
    "target_url = []\n",
    "for i in soup.find_all(\"a\"):\n",
    "#     print(i)\n",
    "    if \"★5\" in str(i):\n",
    "        target_url.append(i)"
   ]
  },
  {
   "cell_type": "code",
   "execution_count": 118,
   "id": "006a9051-a6f8-4812-adb0-0bb0b035a359",
   "metadata": {},
   "outputs": [
    {
     "data": {
      "text/plain": [
       "[<a href=\"/contests/typical90/tasks/typical90_f\">Smallest Subsequence（★5）</a>,\n",
       " <a href=\"/contests/typical90/tasks/typical90_m\">Passing（★5）</a>,\n",
       " <a href=\"/contests/typical90/tasks/typical90_u\">Come Back in One Piece（★5）</a>,\n",
       " <a href=\"/contests/typical90/tasks/typical90_ac\">Long Bricks（★5）</a>,\n",
       " <a href=\"/contests/typical90/tasks/typical90_ad\">K Factors（★5）</a>,\n",
       " <a href=\"/contests/typical90/tasks/typical90_aj\">Max Manhattan Distance（★5）</a>,\n",
       " <a href=\"/contests/typical90/tasks/typical90_ak\">Don't Leave the Spice（★5）</a>,\n",
       " <a href=\"/contests/typical90/tasks/typical90_am\">Tree Distance（★5）</a>,\n",
       " <a href=\"/contests/typical90/tasks/typical90_ay\">Typical Shop（★5）</a>,\n",
       " <a href=\"/contests/typical90/tasks/typical90_bd\">Lucky Bag（★5）</a>,\n",
       " <a href=\"/contests/typical90/tasks/typical90_bh\">Chimera（★5）</a>,\n",
       " <a href=\"/contests/typical90/tasks/typical90_bn\">Various Arrays（★5）</a>,\n",
       " <a href=\"/contests/typical90/tasks/typical90_bp\">Paired Information（★5）</a>,\n",
       " <a href=\"/contests/typical90/tasks/typical90_bu\">We Need Both a and b（★5）</a>,\n",
       " <a href=\"/contests/typical90/tasks/typical90_cc\">Friendly Group（★5）</a>,\n",
       " <a href=\"/contests/typical90/tasks/typical90_ch\">Snuke's Favorite Arrays（★5）</a>,\n",
       " <a href=\"/contests/typical90/tasks/typical90_ci\">Chokudai's Demand（★5）</a>]"
      ]
     },
     "execution_count": 118,
     "metadata": {},
     "output_type": "execute_result"
    }
   ],
   "source": [
    "target_url"
   ]
  },
  {
   "cell_type": "code",
   "execution_count": 119,
   "id": "4413c5af-d511-4ff4-95d8-5845acfb81ad",
   "metadata": {},
   "outputs": [
    {
     "name": "stdout",
     "output_type": "stream",
     "text": [
      "['\"/contests/typical90/tasks/typical90_m\"']\n",
      "['/contests/typical90/tasks/typical90_m']\n",
      "['Passing（★5）']\n"
     ]
    }
   ],
   "source": [
    "import re\n",
    "\n",
    "test_a = ''' <a href=\"/contests/typical90/tasks/typical90_m\">Passing（★5）</a>'''\n",
    "\n",
    "\n",
    "\n",
    "pattern_url = r'\\\"[^*]*\\\"'  \n",
    "r = re.findall(pattern_url, test_a)\n",
    "print(r) \n",
    "\n",
    "\n",
    "pattern_url2 = r'\\\"(.*)\\\"'  \n",
    "r = re.findall(pattern_url2, test_a)\n",
    "pattern_name = r'\\>(.*)\\<'\n",
    "rr = re.findall(pattern_name, test_a)\n",
    "\n",
    "print(r)  # ['sample string']\n",
    "print(rr)"
   ]
  },
  {
   "cell_type": "code",
   "execution_count": 120,
   "id": "dd3240f0-b04c-4a95-8c98-bb860d1d305e",
   "metadata": {},
   "outputs": [],
   "source": [
    "pattern_url = r'\\\"(.*)\\\"' \n",
    "pattern_name = r'\\>(.*)\\<'\n",
    "\n",
    "url_name_pair = []\n",
    "for e,i in enumerate(target_url):\n",
    "    url_name_pair.append([re.findall(pattern_url, str(i)),re.findall(pattern_name, str(i))])   "
   ]
  },
  {
   "cell_type": "code",
   "execution_count": 121,
   "id": "14ed974b-9451-408c-9332-dcfdb52a4c78",
   "metadata": {},
   "outputs": [
    {
     "data": {
      "text/plain": [
       "[[['/contests/typical90/tasks/typical90_f'], ['Smallest Subsequence（★5）']],\n",
       " [['/contests/typical90/tasks/typical90_m'], ['Passing（★5）']],\n",
       " [['/contests/typical90/tasks/typical90_u'], ['Come Back in One Piece（★5）']],\n",
       " [['/contests/typical90/tasks/typical90_ac'], ['Long Bricks（★5）']],\n",
       " [['/contests/typical90/tasks/typical90_ad'], ['K Factors（★5）']],\n",
       " [['/contests/typical90/tasks/typical90_aj'], ['Max Manhattan Distance（★5）']],\n",
       " [['/contests/typical90/tasks/typical90_ak'], [\"Don't Leave the Spice（★5）\"]],\n",
       " [['/contests/typical90/tasks/typical90_am'], ['Tree Distance（★5）']],\n",
       " [['/contests/typical90/tasks/typical90_ay'], ['Typical Shop（★5）']],\n",
       " [['/contests/typical90/tasks/typical90_bd'], ['Lucky Bag（★5）']],\n",
       " [['/contests/typical90/tasks/typical90_bh'], ['Chimera（★5）']],\n",
       " [['/contests/typical90/tasks/typical90_bn'], ['Various Arrays（★5）']],\n",
       " [['/contests/typical90/tasks/typical90_bp'], ['Paired Information（★5）']],\n",
       " [['/contests/typical90/tasks/typical90_bu'], ['We Need Both a and b（★5）']],\n",
       " [['/contests/typical90/tasks/typical90_cc'], ['Friendly Group（★5）']],\n",
       " [['/contests/typical90/tasks/typical90_ch'], [\"Snuke's Favorite Arrays（★5）\"]],\n",
       " [['/contests/typical90/tasks/typical90_ci'], [\"Chokudai's Demand（★5）\"]]]"
      ]
     },
     "execution_count": 121,
     "metadata": {},
     "output_type": "execute_result"
    }
   ],
   "source": [
    "url_name_pair"
   ]
  },
  {
   "cell_type": "code",
   "execution_count": 122,
   "id": "7cba73d2-ec1b-4549-b740-82542cd4bcc9",
   "metadata": {},
   "outputs": [],
   "source": [
    "original_url = \"https://atcoder.jp\"\n",
    "target_url2 = []\n",
    "for e,i in enumerate(url_name_pair):\n",
    "    target_url2.append([original_url + i[0][0],i[1][0]])\n"
   ]
  },
  {
   "cell_type": "code",
   "execution_count": 123,
   "id": "e0bca4db-ea3c-4b6e-bbfc-270a6b6bcc18",
   "metadata": {},
   "outputs": [
    {
     "name": "stdout",
     "output_type": "stream",
     "text": [
      "# ☆5\n",
      "## Smallest Subsequence（★5）\n",
      "- [ ]  [https://atcoder.jp/contests/typical90/tasks/typical90_f](https://atcoder.jp/contests/typical90/tasks/typical90_f)\n",
      "## Passing（★5）\n",
      "- [ ]  [https://atcoder.jp/contests/typical90/tasks/typical90_m](https://atcoder.jp/contests/typical90/tasks/typical90_m)\n",
      "## Come Back in One Piece（★5）\n",
      "- [ ]  [https://atcoder.jp/contests/typical90/tasks/typical90_u](https://atcoder.jp/contests/typical90/tasks/typical90_u)\n",
      "## Long Bricks（★5）\n",
      "- [ ]  [https://atcoder.jp/contests/typical90/tasks/typical90_ac](https://atcoder.jp/contests/typical90/tasks/typical90_ac)\n",
      "## K Factors（★5）\n",
      "- [ ]  [https://atcoder.jp/contests/typical90/tasks/typical90_ad](https://atcoder.jp/contests/typical90/tasks/typical90_ad)\n",
      "## Max Manhattan Distance（★5）\n",
      "- [ ]  [https://atcoder.jp/contests/typical90/tasks/typical90_aj](https://atcoder.jp/contests/typical90/tasks/typical90_aj)\n",
      "## Don't Leave the Spice（★5）\n",
      "- [ ]  [https://atcoder.jp/contests/typical90/tasks/typical90_ak](https://atcoder.jp/contests/typical90/tasks/typical90_ak)\n",
      "## Tree Distance（★5）\n",
      "- [ ]  [https://atcoder.jp/contests/typical90/tasks/typical90_am](https://atcoder.jp/contests/typical90/tasks/typical90_am)\n",
      "## Typical Shop（★5）\n",
      "- [ ]  [https://atcoder.jp/contests/typical90/tasks/typical90_ay](https://atcoder.jp/contests/typical90/tasks/typical90_ay)\n",
      "## Lucky Bag（★5）\n",
      "- [ ]  [https://atcoder.jp/contests/typical90/tasks/typical90_bd](https://atcoder.jp/contests/typical90/tasks/typical90_bd)\n",
      "## Chimera（★5）\n",
      "- [ ]  [https://atcoder.jp/contests/typical90/tasks/typical90_bh](https://atcoder.jp/contests/typical90/tasks/typical90_bh)\n",
      "## Various Arrays（★5）\n",
      "- [ ]  [https://atcoder.jp/contests/typical90/tasks/typical90_bn](https://atcoder.jp/contests/typical90/tasks/typical90_bn)\n",
      "## Paired Information（★5）\n",
      "- [ ]  [https://atcoder.jp/contests/typical90/tasks/typical90_bp](https://atcoder.jp/contests/typical90/tasks/typical90_bp)\n",
      "## We Need Both a and b（★5）\n",
      "- [ ]  [https://atcoder.jp/contests/typical90/tasks/typical90_bu](https://atcoder.jp/contests/typical90/tasks/typical90_bu)\n",
      "## Friendly Group（★5）\n",
      "- [ ]  [https://atcoder.jp/contests/typical90/tasks/typical90_cc](https://atcoder.jp/contests/typical90/tasks/typical90_cc)\n",
      "## Snuke's Favorite Arrays（★5）\n",
      "- [ ]  [https://atcoder.jp/contests/typical90/tasks/typical90_ch](https://atcoder.jp/contests/typical90/tasks/typical90_ch)\n",
      "## Chokudai's Demand（★5）\n",
      "- [ ]  [https://atcoder.jp/contests/typical90/tasks/typical90_ci](https://atcoder.jp/contests/typical90/tasks/typical90_ci)\n"
     ]
    }
   ],
   "source": [
    "print(\"# ☆5\")\n",
    "for i in target_url2:\n",
    "    print(\"## \"+i[1])\n",
    "    print(\"- [ ]  [\"+i[0]+\"]\"+\"(\"+i[0]+\")\")"
   ]
  },
  {
   "cell_type": "code",
   "execution_count": null,
   "id": "a2746708-917a-420e-abf9-a16a24b23a7a",
   "metadata": {},
   "outputs": [],
   "source": []
  },
  {
   "cell_type": "code",
   "execution_count": null,
   "id": "a0f2ba54-a472-4b2d-af3c-4bf2ee087c8e",
   "metadata": {},
   "outputs": [],
   "source": []
  }
 ],
 "metadata": {
  "kernelspec": {
   "display_name": "Python 3",
   "language": "python",
   "name": "python3"
  },
  "language_info": {
   "codemirror_mode": {
    "name": "ipython",
    "version": 3
   },
   "file_extension": ".py",
   "mimetype": "text/x-python",
   "name": "python",
   "nbconvert_exporter": "python",
   "pygments_lexer": "ipython3",
   "version": "3.8.8"
  }
 },
 "nbformat": 4,
 "nbformat_minor": 5
}
